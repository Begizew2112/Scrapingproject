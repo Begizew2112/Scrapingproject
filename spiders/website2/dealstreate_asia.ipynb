{
 "cells": [
  {
   "cell_type": "code",
   "execution_count": 1,
   "metadata": {},
   "outputs": [],
   "source": [
    "#import all required libraries\n",
    "import time\n",
    "import csv\n",
    "from datetime import datetime, timedelta\n",
    "from selenium import webdriver\n",
    "from selenium.webdriver.common.by import By\n",
    "from selenium.webdriver.chrome.service import Service\n",
    "from selenium.common.exceptions import NoSuchElementException, ElementClickInterceptedException\n",
    "#from webdriver_manager.chrome import ChromeDriverManager\n"
   ]
  },
  {
   "cell_type": "code",
   "execution_count": null,
   "metadata": {},
   "outputs": [],
   "source": [
    "# //*[@id=\"archive-wrapper\"]/div[4]/div[1]/div/div[1]\n",
    "# //*[@id=\"archive-wrapper\"]/div[4]/div[1]/div/div[1]/div[1]/a ...link adress\n",
    "# //*[@id=\"disable-copy\"]/h1...title\n",
    "# //*[@id=\"disable-copy\"]/div[2]/div[1]/div/div[1]/span/a ...source\n",
    "# //*[@id=\"disable-copy\"]/div[2]/div[1]/div/div[1]/p....date\n",
    "# //*[@id=\"disable-copy\"]/div[2]/div[2]/div[1]/article...body \n",
    "# //*[@id=\"archive-wrapper\"]/div[4]/div[1]/div/div[2]\n",
    "# //*[@id=\"disable-copy\"]/h1 ...title\n",
    "# //*[@id=\"disable-copy\"]/div[2]/div[1]/div/div[1]/p ...date\n",
    "# //*[@id=\"disable-copy\"]/div[2]/div[2]/div[1]/article...body\n",
    "# //*[@id=\"disable-copy\"]/div[2]/div[1]/div/div[1]/span/a\n",
    "# //*[@id=\"archive-wrapper\"]/div[4]/div[1]/div/div[3]\n",
    "# ...\n",
    "# //*[@id=\"archive-wrapper\"]/div[4]/div[1]/div/div[8]\n",
    "\n",
    "# //*[@id=\"archive-wrapper\"]/div[5]/div/button\n",
    "\n"
   ]
  },
  {
   "cell_type": "code",
   "execution_count": null,
   "metadata": {},
   "outputs": [],
   "source": []
  },
  {
   "cell_type": "markdown",
   "metadata": {},
   "source": [
    "used to hidden the chrome to increase the efficieny "
   ]
  },
  {
   "cell_type": "code",
   "execution_count": 3,
   "metadata": {},
   "outputs": [],
   "source": [
    "# Set up Selenium WebDriver\n",
    "options = webdriver.ChromeOptions()\n",
    "options.add_argument(\"--headless\")  # Run in headless mode for efficiency\n",
    "driver = webdriver.Chrome(service=Service(ChromeDriverManager().install()), options=options)\n"
   ]
  },
  {
   "cell_type": "code",
   "execution_count": 4,
   "metadata": {},
   "outputs": [],
   "source": [
    "\n",
    "# Open the target website\n",
    "url = \"https://www.dealstreetasia.com/section/private-equity\"\n",
    "driver.get(url)"
   ]
  },
  {
   "cell_type": "markdown",
   "metadata": {},
   "source": [
    "start to check that the scripts are really get the required information"
   ]
  },
  {
   "cell_type": "code",
   "execution_count": 9,
   "metadata": {},
   "outputs": [
    {
     "name": "stdout",
     "output_type": "stream",
     "text": [
      "Saved article: Indian PE giant Kedaara invests $350m in AI solution provider Impetus\n",
      "Saved article: Gaw Capital buys 45% stake in Agility Asset Advisers to deepen presence in Japan\n",
      "Saved article: Indian NBFC Saarathi Finance in talks with PE firms to raise capital\n",
      "Saved article: GPs' soft skills equally important amid Asia's shifting landscape, says veteran LP\n",
      "Saved article: Oriza's semiconductor investment platform achieves first close of debut M&A fund\n",
      "\n",
      "Scraping complete! Data saved to scraped_articles.csv\n"
     ]
    }
   ],
   "source": [
    "\n",
    "# Extract article links\n",
    "articles = driver.find_elements(By.XPATH, '//*[@id=\"archive-wrapper\"]/div[4]/div[1]/div/div')\n",
    "article_links = [article.find_element(By.XPATH, './div[1]/a').get_attribute('href') for article in articles]\n",
    "\n",
    "# Create and open a CSV file for writing\n",
    "csv_filename = \"scraped_articles.csv\"\n",
    "with open(csv_filename, mode='w', newline='', encoding='utf-8') as file:\n",
    "    writer = csv.writer(file)\n",
    "    writer.writerow([\"Title\", \"Source\", \"Date\", \"Article Content\", \"URL\"])  # Added URL column\n",
    "\n",
    "    # Loop through each article link and extract details\n",
    "    for link in article_links:\n",
    "        driver.get(link)\n",
    "        time.sleep(2)  # Ensure the page loads before extracting data\n",
    "\n",
    "        try:\n",
    "            # Extract article details\n",
    "            title = driver.find_element(By.XPATH, '//*[@id=\"disable-copy\"]/h1').text.strip()\n",
    "            source = driver.find_element(By.XPATH, '//*[@id=\"disable-copy\"]/div[2]/div[1]/div/div[1]/span/a').text.strip()\n",
    "            date = driver.find_element(By.XPATH, '//*[@id=\"disable-copy\"]/div[2]/div[1]/div/div[1]/p').text.strip()\n",
    "            body = driver.find_element(By.XPATH, '//*[@id=\"disable-copy\"]/div[2]/div[2]/div[1]/article').text.strip().replace(\"\\n\", \" \")  # Remove excessive newlines\n",
    "\n",
    "            # Write the extracted data to the CSV file\n",
    "            writer.writerow([title, source, date, body, link])\n",
    "\n",
    "            print(f\"Saved article: {title}\")\n",
    "\n",
    "        except Exception as e:\n",
    "            print(f\"Error extracting article data from {link}: {e}\")\n",
    "\n",
    "# Close the browser\n",
    "driver.quit()\n",
    "\n",
    "print(f\"\\nScraping complete! Data saved to {csv_filename}\")\n"
   ]
  },
  {
   "cell_type": "markdown",
   "metadata": {},
   "source": [
    "check that the 'more' button is properly work"
   ]
  },
  {
   "cell_type": "code",
   "execution_count": 5,
   "metadata": {},
   "outputs": [
    {
     "name": "stdout",
     "output_type": "stream",
     "text": [
      "✅ 'More' button clicked 1 times\n",
      "🔄 Total articles loaded: 15\n",
      "✅ 'More' button clicked 2 times\n",
      "🔄 Total articles loaded: 25\n",
      "✅ 'More' button clicked 3 times\n",
      "🔄 Total articles loaded: 35\n",
      "✅ 'More' button clicked 4 times\n",
      "🔄 Total articles loaded: 45\n",
      "✅ 'More' button clicked 5 times\n",
      "🔄 Total articles loaded: 55\n",
      "\n",
      "✅ 'More' button test complete!\n"
     ]
    }
   ],
   "source": [
    "click_count = 0\n",
    "max_clicks = 5  # Maximum clicks\n",
    "\n",
    "while click_count < max_clicks:\n",
    "    try:\n",
    "        # Locate the \"More\" button\n",
    "        more_button = driver.find_element(By.XPATH, '//*[@id=\"archive-wrapper\"]/div[5]/div/button')\n",
    "        \n",
    "        # Scroll into view and click\n",
    "        driver.execute_script(\"arguments[0].scrollIntoView(true);\", more_button)\n",
    "        time.sleep(1)\n",
    "        driver.execute_script(\"arguments[0].click();\", more_button)  # Click using JavaScript\n",
    "        time.sleep(5)  # Wait for new articles to load\n",
    "        \n",
    "        click_count += 1\n",
    "        print(f\" 'More' button clicked {click_count} times\")\n",
    "        \n",
    "        # Check if new articles are loaded\n",
    "        articles = driver.find_elements(By.XPATH, '//*[@id=\"archive-wrapper\"]/div[4]/div[1]/div/div')\n",
    "        print(f\" Total articles loaded: {len(articles)}\")\n",
    "        \n",
    "        if len(articles) == 0:\n",
    "            print(\" No new articles found after clicking. Stopping.\")\n",
    "            break\n",
    "        \n",
    "    except (NoSuchElementException, ElementClickInterceptedException):\n",
    "        print(\" No 'More' button found or can't be clicked. Stopping.\")\n",
    "        break  # Stop if the button is missing or can't be clicked\n",
    "\n",
    "print(\"\\n 'More' button test complete!\")"
   ]
  },
  {
   "cell_type": "markdown",
   "metadata": {},
   "source": [
    "get the full scraping scripts after check it all the required information are well organaized "
   ]
  },
  {
   "cell_type": "code",
   "execution_count": null,
   "metadata": {},
   "outputs": [],
   "source": [
    "# Initialize WebDriver......alternative way to open the driver\n",
    "driver = webdriver.Chrome()  # Change this if using a different browser\n",
    "driver.get( \"https://www.dealstreetasia.com/section/private-equity\")\n",
    "time.sleep(3)  # Wait for page to load"
   ]
  },
  {
   "cell_type": "code",
   "execution_count": null,
   "metadata": {},
   "outputs": [],
   "source": [
    "# Initialize WebDriver\n",
    "driver = webdriver.Chrome()  # Change this if using a different browser\n",
    "driver.get( \"https://www.dealstreetasia.com/section/private-equity\")\n",
    "time.sleep(3)  # Wait for page to load\n",
    "\n",
    "# Define the exact date limit (2 months ago)\n",
    "two_months_ago = datetime.now() - timedelta(days=60)\n",
    "\n",
    "# Create CSV file for writing\n",
    "csv_filename = \"full_scraped_articles.csv\"\n",
    "with open(csv_filename, mode='w', newline='', encoding='utf-8') as file:\n",
    "    writer = csv.writer(file)\n",
    "    writer.writerow([\"Title\", \"Source\", \"Date\", \"Article Content\", \"URL\"])  # CSV Header\n",
    "\n",
    "    # Function to parse and reformat date\n",
    "    def parse_and_format_date(date_str):\n",
    "        try:\n",
    "            parsed_date = datetime.strptime(date_str, \"%d %B, %Y\")  # Convert '14 January, 2025'\n",
    "            return parsed_date.strftime(\"%d ,%m, %Y\")  # Format to '14 ,01, 2025'\n",
    "        except ValueError:\n",
    "            return None  # Handle unexpected formats\n",
    "\n",
    "    last_article_old = False  # Stop when an article older than 2 months is found\n",
    "    last_scraped_index = 0  # Keep track of last scraped article index\n",
    "\n",
    "    while not last_article_old:\n",
    "        # Step 1: Extract all current article links\n",
    "        articles = driver.find_elements(By.XPATH, '//*[@id=\"archive-wrapper\"]/div[4]/div[1]/div/div')\n",
    "        article_links = [article.find_element(By.XPATH, './div[1]/a').get_attribute('href') for article in articles]\n",
    "\n",
    "        # Start from the last scraped index (continue from where we left off)\n",
    "        for i in range(last_scraped_index, len(article_links)):\n",
    "            link = article_links[i]\n",
    "            driver.get(link)\n",
    "            time.sleep(2)  # Wait for article page to load\n",
    "\n",
    "            try:\n",
    "                # Extract article details\n",
    "                title = driver.find_element(By.XPATH, '//*[@id=\"disable-copy\"]/h1').text.strip()\n",
    "                source = driver.find_element(By.XPATH, '//*[@id=\"disable-copy\"]/div[2]/div[1]/div/div[1]/span/a').text.strip()\n",
    "                date_text = driver.find_element(By.XPATH, '//*[@id=\"disable-copy\"]/div[2]/div[1]/div/div[1]/p').text.strip()\n",
    "                body = driver.find_element(By.XPATH, '//*[@id=\"disable-copy\"]/div[2]/div[2]/div[1]/article').text.strip().replace(\"\\n\", \" \")\n",
    "\n",
    "                # Convert date and compare with the 2-month limit\n",
    "                formatted_date = parse_and_format_date(date_text)\n",
    "                article_date = datetime.strptime(formatted_date, \"%d ,%m, %Y\") if formatted_date else None\n",
    "\n",
    "                if article_date and article_date < two_months_ago:\n",
    "                    print(f\"⏹️ Stopping: Found an article older than 2 months ({formatted_date})\")\n",
    "                    last_article_old = True\n",
    "                    break  # Stop processing further\n",
    "\n",
    "                # Save to CSV\n",
    "                writer.writerow([title, source, formatted_date, body, link])\n",
    "                print(f\"Saved article: {title} - {formatted_date}\")\n",
    "\n",
    "            except Exception as e:\n",
    "                print(f\" Error extracting article data from {link}: {e}\")\n",
    "\n",
    "            # Update last scraped index\n",
    "            last_scraped_index = i + 1\n",
    "\n",
    "            # Go back to the main page to scrape the next article\n",
    "            driver.back()\n",
    "            time.sleep(2)  # Wait for the main page to reload\n",
    "\n",
    "        if last_article_old:\n",
    "            break  # Stop clicking \"More\" if we found an old article\n",
    "\n",
    "        # Step 2: Click the \"More\" button to load more articles\n",
    "        try:\n",
    "            more_button = driver.find_element(By.XPATH, '//*[@id=\"archive-wrapper\"]/div[5]/div/button')\n",
    "            driver.execute_script(\"arguments[0].scrollIntoView(true);\", more_button)\n",
    "            time.sleep(1)\n",
    "            driver.execute_script(\"arguments[0].click();\", more_button)\n",
    "            time.sleep(5)  # Wait for new articles to load\n",
    "\n",
    "            # Update last_scraped_index to continue from where we left off\n",
    "            last_scraped_index = len(article_links)\n",
    "\n",
    "        except (NoSuchElementException, ElementClickInterceptedException):\n",
    "            print(\" No 'More' button found or can't be clicked. Stopping.\")\n",
    "            break  # Stop if the button is missing or can't be clicked\n",
    "\n",
    "print(f\"\\n Scraping complete! Data saved to {csv_filename}\")\n",
    "driver.quit()\n"
   ]
  }
 ],
 "metadata": {
  "kernelspec": {
   "display_name": "venv",
   "language": "python",
   "name": "python3"
  },
  "language_info": {
   "codemirror_mode": {
    "name": "ipython",
    "version": 3
   },
   "file_extension": ".py",
   "mimetype": "text/x-python",
   "name": "python",
   "nbconvert_exporter": "python",
   "pygments_lexer": "ipython3",
   "version": "3.12.5"
  }
 },
 "nbformat": 4,
 "nbformat_minor": 2
}
