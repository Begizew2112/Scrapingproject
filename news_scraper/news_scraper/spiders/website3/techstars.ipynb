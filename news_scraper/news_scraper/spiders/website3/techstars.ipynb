{
 "cells": [
  {
   "cell_type": "code",
   "execution_count": 1,
   "metadata": {},
   "outputs": [],
   "source": [
    "import time\n",
    "import csv\n",
    "from datetime import datetime\n",
    "from selenium import webdriver\n",
    "from selenium.webdriver.common.by import By\n",
    "from selenium.webdriver.chrome.service import Service\n",
    "from selenium.webdriver.support.ui import WebDriverWait\n",
    "from selenium.webdriver.support import expected_conditions as EC\n",
    "from selenium.common.exceptions import NoSuchElementException, ElementClickInterceptedException, StaleElementReferenceException\n",
    "from webdriver_manager.chrome import ChromeDriverManager"
   ]
  },
  {
   "cell_type": "code",
   "execution_count": 2,
   "metadata": {},
   "outputs": [],
   "source": [
    "driver=webdriver.Chrome() \n",
    "website=\"https://www.techstars.com/newsroom\"  \n",
    "driver.get(website)"
   ]
  },
  {
   "cell_type": "markdown",
   "metadata": {},
   "source": [
    "all the required path are given below "
   ]
  },
  {
   "cell_type": "code",
   "execution_count": null,
   "metadata": {},
   "outputs": [],
   "source": [
    "# //*[@id=\"__next\"]/div/div[2]/div[2]/div[1]\n",
    "# //*[@id=\"__next\"]/div/div[2]/div[2]/div[1]/div/a[1]\n",
    "# //*[@id=\"__next\"]/div/div[2]/div[2]/div[1]/div/a[2]\n",
    "# //*[@id=\"__next\"]/div/div[2]/div[2]/div[1]/div/a[3]\n",
    "\n",
    "\n",
    "# //*[@id=\"__next\"]/div/div[2]/div[2]/div[2]/div\n",
    "# //*[@id=\"__next\"]/div/div[2]/div[2]/div[2]/div/a[1]..datetime\n",
    "# //*[@id=\"__next\"]/div/div[2]/div[2]/div[2]/div/a[2]...title\n",
    "# //*[@id=\"__next\"]/div/div[2]/div[2]/div[2]/div/a[3]....body(content)\n"
   ]
  },
  {
   "cell_type": "markdown",
   "metadata": {},
   "source": [
    "start the scraping of the website on the first page "
   ]
  },
  {
   "cell_type": "code",
   "execution_count": 3,
   "metadata": {},
   "outputs": [
    {
     "name": "stdout",
     "output_type": "stream",
     "text": [
      " Saved: Techstars and Merce Anders Equity Group Partner to Launch Startup Community Catalyst Africa in Botswana\n",
      " Saved: Techstars and Emory University Launch a Pre-Accelerator Program to Drive Entrepreneurial Growth\n",
      " Saved: Techstars New York City powered by J.P. Morgan Announces the Fall 2024 Class\n",
      " Saved: Better for Founders, Better for Colorado\n",
      " Saved: Meet the Techstars Economic Mobility Powered by Samvid Ventures Class of 2024\n",
      " Error extracting article: Message: no such element: Unable to locate element: {\"method\":\"xpath\",\"selector\":\"./div/a[1]\"}\n",
      "  (Session info: chrome=131.0.6778.266); For documentation on this error, please visit: https://www.selenium.dev/documentation/webdriver/troubleshooting/errors#no-such-element-exception\n",
      "Stacktrace:\n",
      "\tGetHandleVerifier [0x00007FF61BD880D5+2992373]\n",
      "\t(No symbol) [0x00007FF61BA1BFD0]\n",
      "\t(No symbol) [0x00007FF61B8B590A]\n",
      "\t(No symbol) [0x00007FF61B90926E]\n",
      "\t(No symbol) [0x00007FF61B90955C]\n",
      "\t(No symbol) [0x00007FF61B8FC6CC]\n",
      "\t(No symbol) [0x00007FF61B92F3AF]\n",
      "\t(No symbol) [0x00007FF61B8FC596]\n",
      "\t(No symbol) [0x00007FF61B92F580]\n",
      "\t(No symbol) [0x00007FF61B94F584]\n",
      "\t(No symbol) [0x00007FF61B92F113]\n",
      "\t(No symbol) [0x00007FF61B8FA918]\n",
      "\t(No symbol) [0x00007FF61B8FBA81]\n",
      "\tGetHandleVerifier [0x00007FF61BDE6A2D+3379789]\n",
      "\tGetHandleVerifier [0x00007FF61BDFC32D+3468109]\n",
      "\tGetHandleVerifier [0x00007FF61BDF0043+3418211]\n",
      "\tGetHandleVerifier [0x00007FF61BB7C78B+847787]\n",
      "\t(No symbol) [0x00007FF61BA2757F]\n",
      "\t(No symbol) [0x00007FF61BA22FC4]\n",
      "\t(No symbol) [0x00007FF61BA2315D]\n",
      "\t(No symbol) [0x00007FF61BA12979]\n",
      "\tBaseThreadInitThunk [0x00007FF87D587034+20]\n",
      "\tRtlUserThreadStart [0x00007FF87DFFCEC1+33]\n",
      "\n",
      "\n",
      " Scraping complete! Data saved to techstars_articles.csv\n"
     ]
    }
   ],
   "source": [
    "\n",
    "# Find all articles\n",
    "articles = driver.find_elements(By.XPATH, '//*[@id=\"__next\"]/div/div[2]/div[2]/div')\n",
    "\n",
    "# Create and open CSV file\n",
    "csv_filename = \"techstars_articles.csv\"\n",
    "with open(csv_filename, mode='w', newline='', encoding='utf-8') as file:\n",
    "    writer = csv.writer(file)\n",
    "    writer.writerow([\"Date\", \"Title\", \"Content\"])  # CSV headers\n",
    "\n",
    "    for article in articles:\n",
    "        try:\n",
    "            date = article.find_element(By.XPATH, './div/a[1]').text.strip()\n",
    "            title = article.find_element(By.XPATH, './div/a[2]').text.strip()\n",
    "            content = article.find_element(By.XPATH, './div/a[3]').text.strip()\n",
    "\n",
    "            writer.writerow([date, title, content])\n",
    "            print(f\" Saved: {title}\")\n",
    "\n",
    "        except Exception as e:\n",
    "            print(f\" Error extracting article: {e}\")\n",
    "\n",
    "\n",
    "print(f\"\\n Scraping complete! Data saved to {csv_filename}\")\n"
   ]
  },
  {
   "cell_type": "markdown",
   "metadata": {},
   "source": [
    "scrape full data up to 2 month from now"
   ]
  },
  {
   "cell_type": "code",
   "execution_count": 4,
   "metadata": {},
   "outputs": [
    {
     "name": "stdout",
     "output_type": "stream",
     "text": [
      " Found 6 articles on this page\n",
      " Saved Article 1: Techstars and Merce Anders Equity Group Partner to Launch Startup Community Catalyst Africa in Botswana (13, 01, 2025)\n",
      " Saved Article 2: Techstars and Emory University Launch a Pre-Accelerator Program to Drive Entrepreneurial Growth (06, 01, 2025)\n",
      " Saved Article 3: Techstars New York City powered by J.P. Morgan Announces the Fall 2024 Class (03, 12, 2024)\n",
      "\n",
      " Stopping: Found an old article from 29, 10, 2024.\n",
      "\n",
      " Scraping complete! Data saved to final_techstars_scraped_articles.csv\n"
     ]
    }
   ],
   "source": [
    "import time\n",
    "import csv\n",
    "from datetime import datetime, timedelta\n",
    "from selenium import webdriver\n",
    "from selenium.webdriver.common.by import By\n",
    "from selenium.webdriver.support.ui import WebDriverWait\n",
    "from selenium.webdriver.support import expected_conditions as EC\n",
    "from selenium.common.exceptions import NoSuchElementException, TimeoutException\n",
    "\n",
    "# Initialize WebDriver\n",
    "driver = webdriver.Chrome()\n",
    "url = \"https://www.techstars.com/newsroom\"\n",
    "driver.get(url)\n",
    "\n",
    "time.sleep(3)  # Allow initial page to load\n",
    "\n",
    "# Define time limit (2 months ago)\n",
    "two_months_ago = datetime.now() - timedelta(days=60)\n",
    "\n",
    "# Open CSV file to save scraped data\n",
    "csv_filename = \"final_techstars_scraped_articles.csv\"\n",
    "with open(csv_filename, mode=\"w\", newline=\"\", encoding=\"utf-8\") as file:\n",
    "    writer = csv.writer(file)\n",
    "    writer.writerow([\"Date\", \"Title\", \"Body\", \"URL\"])  # CSV Header\n",
    "\n",
    "    stop_scraping = False  # Flag to stop scraping when old articles are found\n",
    "\n",
    "    while not stop_scraping:  # Loop through multiple pages\n",
    "        # Wait for articles to load\n",
    "        try:\n",
    "            WebDriverWait(driver, 10).until(\n",
    "                EC.presence_of_all_elements_located((By.XPATH, '//*[@id=\"__next\"]/div/div[2]/div[2]/div'))\n",
    "            )\n",
    "        except TimeoutException:\n",
    "            print(\" Page took too long to load. Stopping.\")\n",
    "            break\n",
    "\n",
    "        # Extract all articles on the current page\n",
    "        articles = driver.find_elements(By.XPATH, '//*[@id=\"__next\"]/div/div[2]/div[2]/div')\n",
    "        print(f\" Found {len(articles)} articles on this page\")\n",
    "\n",
    "        for index, article in enumerate(articles):\n",
    "            try:\n",
    "                # Extract article details\n",
    "                date_text = article.find_element(By.XPATH, './div/a[1]').text.strip()\n",
    "                title = article.find_element(By.XPATH, './div/a[2]').text.strip()\n",
    "                body = article.find_element(By.XPATH, './div/a[3]').text.strip()\n",
    "                url = article.find_element(By.XPATH, './div/a[2]').get_attribute(\"href\")  # Extract URL\n",
    "\n",
    "                # Convert date format: 'Jan 06, 2025' → '06, 01, 2025'\n",
    "                try:\n",
    "                    article_date = datetime.strptime(date_text, \"%b %d, %Y\")\n",
    "                    formatted_date = article_date.strftime(\"%d, %m, %Y\")\n",
    "                except ValueError:\n",
    "                    print(f\" Invalid date format: {date_text}. Skipping article.\")\n",
    "                    continue\n",
    "\n",
    "                # Stop scraping immediately if we reach an old article\n",
    "                if article_date < two_months_ago:\n",
    "                    print(f\"\\n Stopping: Found an old article from {formatted_date}.\")\n",
    "                    stop_scraping = True  # Set flag to exit loop\n",
    "                    break  # Stop processing this page\n",
    "\n",
    "                # Save article data\n",
    "                writer.writerow([formatted_date, title, body, url])\n",
    "                print(f\" Saved Article {index+1}: {title} ({formatted_date})\")\n",
    "\n",
    "            except NoSuchElementException:\n",
    "                print(f\" Missing data in article {index+1}. Skipping.\")\n",
    "                continue\n",
    "\n",
    "        if stop_scraping:\n",
    "            break  # Exit the while loop after processing the last valid page\n",
    "\n",
    "        # Try to click the \"Next Page\" button\n",
    "        try:\n",
    "            next_button = driver.find_element(By.XPATH, '//*[@id=\"__next\"]/div/div[2]/div[2]/div[6]/div[7]/button/span[1]')\n",
    "            driver.execute_script(\"arguments[0].scrollIntoView(true);\", next_button)  # Scroll into view\n",
    "            time.sleep(2)  # Allow smooth scrolling\n",
    "            driver.execute_script(\"arguments[0].click();\", next_button)  # Click via JavaScript\n",
    "            print(\"➡️ Clicked 'Next Page' button\")\n",
    "            time.sleep(5)  # Wait for new articles to load\n",
    "        except NoSuchElementException:\n",
    "            print(\"\\n No more pages found. Stopping.\")\n",
    "            break\n",
    "\n",
    "print(f\"\\n Scraping complete! Data saved to {csv_filename}\")\n"
   ]
  },
  {
   "cell_type": "code",
   "execution_count": null,
   "metadata": {},
   "outputs": [],
   "source": []
  }
 ],
 "metadata": {
  "kernelspec": {
   "display_name": "venv",
   "language": "python",
   "name": "python3"
  },
  "language_info": {
   "codemirror_mode": {
    "name": "ipython",
    "version": 3
   },
   "file_extension": ".py",
   "mimetype": "text/x-python",
   "name": "python",
   "nbconvert_exporter": "python",
   "pygments_lexer": "ipython3",
   "version": "3.12.5"
  }
 },
 "nbformat": 4,
 "nbformat_minor": 2
}
