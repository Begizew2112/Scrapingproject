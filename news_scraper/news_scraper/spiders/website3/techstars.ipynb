{
 "cells": [
  {
   "cell_type": "code",
   "execution_count": 1,
   "metadata": {},
   "outputs": [],
   "source": [
    "import time\n",
    "import csv\n",
    "from datetime import datetime\n",
    "from selenium import webdriver\n",
    "from selenium.webdriver.common.by import By\n",
    "from selenium.webdriver.chrome.service import Service\n",
    "from selenium.webdriver.support.ui import WebDriverWait\n",
    "from selenium.webdriver.support import expected_conditions as EC\n",
    "from selenium.common.exceptions import NoSuchElementException, ElementClickInterceptedException, StaleElementReferenceException\n",
    "from webdriver_manager.chrome import ChromeDriverManager"
   ]
  },
  {
   "cell_type": "code",
   "execution_count": null,
   "metadata": {},
   "outputs": [],
   "source": [
    "//*[@id=\"__next\"]/div/div[2]/div[2]/div[1]\n",
    "//*[@id=\"__next\"]/div/div[2]/div[2]/div[1]/div/a[1]\n",
    "//*[@id=\"__next\"]/div/div[2]/div[2]/div[1]/div/a[2]\n",
    "//*[@id=\"__next\"]/div/div[2]/div[2]/div[1]/div/a[3]\n",
    "\n",
    "\n",
    "//*[@id=\"__next\"]/div/div[2]/div[2]/div[2]/div\n",
    "//*[@id=\"__next\"]/div/div[2]/div[2]/div[2]/div/a[1]..datetime\n",
    "//*[@id=\"__next\"]/div/div[2]/div[2]/div[2]/div/a[2]...title\n",
    "//*[@id=\"__next\"]/div/div[2]/div[2]/div[2]/div/a[3]....body(content)\n"
   ]
  }
 ],
 "metadata": {
  "kernelspec": {
   "display_name": "venv",
   "language": "python",
   "name": "python3"
  },
  "language_info": {
   "codemirror_mode": {
    "name": "ipython",
    "version": 3
   },
   "file_extension": ".py",
   "mimetype": "text/x-python",
   "name": "python",
   "nbconvert_exporter": "python",
   "pygments_lexer": "ipython3",
   "version": "3.12.5"
  }
 },
 "nbformat": 4,
 "nbformat_minor": 2
}
