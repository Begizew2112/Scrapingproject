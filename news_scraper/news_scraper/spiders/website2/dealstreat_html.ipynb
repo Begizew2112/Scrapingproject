{
 "cells": [
  {
   "cell_type": "code",
   "execution_count": 1,
   "metadata": {},
   "outputs": [],
   "source": [
    "from selenium import webdriver\n",
    "import time\n",
    "\n",
    "driver=webdriver.Chrome() \n",
    "website=\"https://www.dealstreetasia.com/section/private-equity\"  \n",
    "driver.get(website)\n"
   ]
  },
  {
   "cell_type": "code",
   "execution_count": 4,
   "metadata": {},
   "outputs": [
    {
     "data": {
      "text/plain": [
       "<selenium.webdriver.remote.webelement.WebElement (session=\"b67d61834d5474beba62d6ea3b782bb7\", element=\"f.752B44F81ECE220A9AF8225FCD6443A9.d.AB3C28B4758AFA61516865C4D7C971A7.e.239\")>"
      ]
     },
     "execution_count": 4,
     "metadata": {},
     "output_type": "execute_result"
    }
   ],
   "source": [
    "from selenium import webdriver\n",
    "from selenium.webdriver.common.by import By\n",
    "from selenium.webdriver.support.ui import WebDriverWait\n",
    "from selenium.webdriver.support import expected_conditions as EC\n",
    "import time\n",
    "\n",
    "# Set up the Chrome WebDriver\n",
    "driver = webdriver.Chrome()\n",
    "\n",
    "# Open the website\n",
    "website = \"https://www.dealstreetasia.com/section/private-equity\"\n",
    "driver.get(website)\n",
    "\n",
    "# Optionally, wait for elements to load (e.g., a specific element) before scraping\n",
    "WebDriverWait(driver, 10).until(\n",
    "    EC.presence_of_element_located((By.XPATH, '//*[@id=\"archive-wrapper\"]'))\n",
    ")\n",
    "\n"
   ]
  },
  {
   "cell_type": "code",
   "execution_count": 5,
   "metadata": {},
   "outputs": [],
   "source": [
    "# Get the page's HTML after it's fully loaded\n",
    "html = driver.page_source\n",
    "\n",
    "# Save the HTML content to a file\n",
    "with open('page.html', 'w', encoding='utf-8') as file:\n",
    "    file.write(html)\n",
    "\n",
    "# Optional: wait to see the output or keep the browser open\n",
    "time.sleep(5)\n",
    "\n",
    "# Close the browser\n",
    "driver.quit()\n"
   ]
  }
 ],
 "metadata": {
  "kernelspec": {
   "display_name": "venv",
   "language": "python",
   "name": "python3"
  },
  "language_info": {
   "codemirror_mode": {
    "name": "ipython",
    "version": 3
   },
   "file_extension": ".py",
   "mimetype": "text/x-python",
   "name": "python",
   "nbconvert_exporter": "python",
   "pygments_lexer": "ipython3",
   "version": "3.12.5"
  }
 },
 "nbformat": 4,
 "nbformat_minor": 2
}
